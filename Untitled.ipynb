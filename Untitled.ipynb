{
 "cells": [
  {
   "cell_type": "code",
   "execution_count": 1,
   "metadata": {
    "collapsed": true
   },
   "outputs": [],
   "source": [
    "from jinja2 import Template"
   ]
  },
  {
   "cell_type": "code",
   "execution_count": 2,
   "metadata": {},
   "outputs": [
    {
     "data": {
      "text/plain": [
       "u'Hello World!'"
      ]
     },
     "execution_count": 2,
     "metadata": {},
     "output_type": "execute_result"
    }
   ],
   "source": [
    "t = Template(\"Hello {{ something }}!\")\n",
    "t.render(something=\"World\")"
   ]
  },
  {
   "cell_type": "code",
   "execution_count": 39,
   "metadata": {
    "collapsed": true
   },
   "outputs": [],
   "source": [
    "import jinja2\n",
    "import random"
   ]
  },
  {
   "cell_type": "code",
   "execution_count": 45,
   "metadata": {},
   "outputs": [],
   "source": [
    "emojis = []\n",
    "\n",
    "with open('data/emoji.data', 'r') as f:\n",
    "    for l in f:\n",
    "        e = l.strip().split(\"\\t\")\n",
    "        emojis.append({ 'word' : e[0], 'emojis' : e[1]})\n",
    "\n",
    "random.shuffle(emojis)        \n",
    "        \n",
    "context = { 'emojis' : emojis }\n",
    "        \n",
    "filename = \"emoji.jinja\"\n",
    "text = jinja2.Environment(loader=jinja2.FileSystemLoader('./')).get_template(filename).render(context)\n",
    "\n",
    "text = '{% extends \"layout.html\" %}' + \"\\n\" + '{% block body %}' + \"\\n\" + text + \"\\n\" + '{% endblock %}'"
   ]
  },
  {
   "cell_type": "code",
   "execution_count": 46,
   "metadata": {},
   "outputs": [],
   "source": [
    "f = open(\"templates/index.html\", 'w')\n",
    "\n",
    "f.write(text)\n",
    "\n",
    "f.close()"
   ]
  },
  {
   "cell_type": "code",
   "execution_count": null,
   "metadata": {
    "collapsed": true
   },
   "outputs": [],
   "source": []
  },
  {
   "cell_type": "code",
   "execution_count": 49,
   "metadata": {
    "scrolled": false
   },
   "outputs": [],
   "source": [
    "emojis = {}\n",
    "\n",
    "with open('data/emoji.data', 'r') as f:\n",
    "    for l in f:\n",
    "        e = l.strip().split(\"\\t\")\n",
    "        emojis[e[0]] = e[1]\n",
    "with open('emojis.txt', 'r') as f:\n",
    "    for l in f:\n",
    "        e = l.strip()\n",
    "        emojis[e[1:-1]] = e"
   ]
  },
  {
   "cell_type": "code",
   "execution_count": 62,
   "metadata": {},
   "outputs": [
    {
     "name": "stdout",
     "output_type": "stream",
     "text": [
      "Dude is :a: :ram::pager:!\n"
     ]
    }
   ],
   "source": [
    "import string\n",
    "\n",
    "#gets the emoji or returns the input\n",
    "def _get_emoji(t):\n",
    "    if t in emojis:\n",
    "        return emojis[t].replace(\" \", \"\")\n",
    "    else:\n",
    "        return t\n",
    "\n",
    "#emojifies\n",
    "def apply(t):\n",
    "    result = \"\"\n",
    "    curr = \"\"\n",
    "    \n",
    "    for l in t:\n",
    "        if l.isspace() or l in string.punctuation:\n",
    "            #space or punctuation ... so check for emojis\n",
    "            result += _get_emoji(curr)\n",
    "            result += l\n",
    "            curr = \"\"\n",
    "        else:\n",
    "            curr += l\n",
    "            \n",
    "    result += _get_emoji(curr)\n",
    "    \n",
    "    return result\n",
    "\n",
    "print(apply(\"Dude is a rampager!\"))"
   ]
  },
  {
   "cell_type": "code",
   "execution_count": null,
   "metadata": {
    "collapsed": true
   },
   "outputs": [],
   "source": []
  }
 ],
 "metadata": {
  "kernelspec": {
   "display_name": "Python 2",
   "language": "python",
   "name": "python2"
  },
  "language_info": {
   "codemirror_mode": {
    "name": "ipython",
    "version": 2
   },
   "file_extension": ".py",
   "mimetype": "text/x-python",
   "name": "python",
   "nbconvert_exporter": "python",
   "pygments_lexer": "ipython2",
   "version": "2.7.12"
  }
 },
 "nbformat": 4,
 "nbformat_minor": 2
}
