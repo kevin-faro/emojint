{
 "cells": [
  {
   "cell_type": "code",
   "execution_count": 1,
   "metadata": {},
   "outputs": [
    {
     "data": {
      "text/plain": [
       "877"
      ]
     },
     "execution_count": 1,
     "metadata": {},
     "output_type": "execute_result"
    }
   ],
   "source": [
    "emojis = set([])\n",
    "\n",
    "with open('emojis.txt', 'r') as f:\n",
    "    for l in f:\n",
    "        emojis.add(l.strip().lower().replace(':', ''))\n",
    "        \n",
    "len(emojis)"
   ]
  },
  {
   "cell_type": "code",
   "execution_count": 2,
   "metadata": {},
   "outputs": [
    {
     "data": {
      "text/plain": [
       "383611"
      ]
     },
     "execution_count": 2,
     "metadata": {},
     "output_type": "execute_result"
    }
   ],
   "source": [
    "words = set([])\n",
    "\n",
    "with open('/usr/share/dict/words') as f:\n",
    "    for l in f:\n",
    "        words.add(l.strip().lower())\n",
    "with open('words.txt') as f:\n",
    "    for l in f:\n",
    "        words.add(l.strip().lower())\n",
    "        \n",
    "len(words)"
   ]
  },
  {
   "cell_type": "code",
   "execution_count": 3,
   "metadata": {},
   "outputs": [
    {
     "data": {
      "text/plain": [
       "753073"
      ]
     },
     "execution_count": 3,
     "metadata": {},
     "output_type": "execute_result"
    }
   ],
   "source": [
    "wordTrie = {}\n",
    "\n",
    "for word in words:\n",
    "    for i in range(2, len(word)):\n",
    "        pre = word[:i]\n",
    "        if pre not in wordTrie:\n",
    "            wordTrie[pre] = []\n",
    "        wordTrie[pre].append(word)\n",
    "\n",
    "len(wordTrie)"
   ]
  },
  {
   "cell_type": "code",
   "execution_count": 4,
   "metadata": {
    "collapsed": true
   },
   "outputs": [],
   "source": [
    "def emojify(word):\n",
    "    if word in emojis:\n",
    "        return [word]\n",
    "    else:\n",
    "        for i in range(1,len(word)):\n",
    "            left = word[0:i]\n",
    "            if left in emojis > 0:\n",
    "                right = emojify(word[i:])\n",
    "                if len(right) > 0:\n",
    "                    return [left] + right\n",
    "        return []"
   ]
  },
  {
   "cell_type": "code",
   "execution_count": 5,
   "metadata": {},
   "outputs": [],
   "source": [
    "f = open('emoji.out', 'w', 0)\n",
    "for emoji in emojis:\n",
    "    if len(emoji) > 2 and emoji in wordTrie:\n",
    "        for w in wordTrie[emoji]:\n",
    "            e = emojify(w[len(emoji):])\n",
    "            if len(e) > 0:\n",
    "                r = [emoji]\n",
    "                r = r + e\n",
    "                r = map(lambda x: \":\"+x+\":\", r)\n",
    "                f.write(w + \"\\t\" + \" \".join(r) + \"\\n\")\n",
    "\n",
    "f.close()"
   ]
  },
  {
   "cell_type": "code",
   "execution_count": 6,
   "metadata": {},
   "outputs": [
    {
     "data": {
      "text/plain": [
       "['ram', 'pager']"
      ]
     },
     "execution_count": 6,
     "metadata": {},
     "output_type": "execute_result"
    }
   ],
   "source": [
    "emojify(\"rampager\")"
   ]
  },
  {
   "cell_type": "code",
   "execution_count": null,
   "metadata": {
    "collapsed": true
   },
   "outputs": [],
   "source": []
  }
 ],
 "metadata": {
  "kernelspec": {
   "display_name": "Python 2",
   "language": "python",
   "name": "python2"
  },
  "language_info": {
   "codemirror_mode": {
    "name": "ipython",
    "version": 2
   },
   "file_extension": ".py",
   "mimetype": "text/x-python",
   "name": "python",
   "nbconvert_exporter": "python",
   "pygments_lexer": "ipython2",
   "version": "2.7.12"
  }
 },
 "nbformat": 4,
 "nbformat_minor": 2
}
